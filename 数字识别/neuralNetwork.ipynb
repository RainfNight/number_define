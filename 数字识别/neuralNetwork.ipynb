{
 "cells": [
  {
   "cell_type": "markdown",
   "id": "1fb392c6",
   "metadata": {},
   "source": [
    "# 手写数字识别"
   ]
  },
  {
   "cell_type": "markdown",
   "id": "61f01d5c",
   "metadata": {},
   "source": [
    "1. 引入需要的库"
   ]
  },
  {
   "cell_type": "code",
   "execution_count": 1,
   "id": "a49cbae2",
   "metadata": {},
   "outputs": [],
   "source": [
    "import numpy as np\n",
    "import scipy.special    #使用sigmoid函数，expit()\n",
    "from sklearn.model_selection import KFold\n",
    "import random"
   ]
  },
  {
   "cell_type": "markdown",
   "id": "e8313093",
   "metadata": {},
   "source": [
    "2. 创建神经网络"
   ]
  },
  {
   "cell_type": "code",
   "execution_count": 3,
   "id": "52f294ba",
   "metadata": {},
   "outputs": [],
   "source": [
    "class neuralNetwork():\n",
    "#初始化神经网络，输入层、隐藏层、输出层、学习率\n",
    "    def __init__(self,inputnodes,hiddennodes,outputnodes,learninggrate):\n",
    "        self.inodes=inputnodes\n",
    "        self.onodes=outputnodes\n",
    "        self.hnodes=hiddennodes\n",
    "        #学习率\n",
    "        self.lr=learninggrate\n",
    "        #链接权重矩阵\n",
    "        self.wih=(np.random.rand(self.hnodes,self.inodes)-0.5)\n",
    "        self.who=(np.random.rand(self.onodes,self.hnodes)-0.5)\n",
    "        #sigmoid激活函数\n",
    "        self.activation_function=lambda x:scipy.special.expit(x)\n",
    "    #训练神经网络\n",
    "    def train(self,inputs_list,targets_list):\n",
    "        inputs=np.array(inputs_list,ndmin=2).T      #T求转置，得到列向量\n",
    "        targets=np.array(targets_list,ndmin=2).T\n",
    "        \n",
    "        hidden_inputs=np.dot(self.wih,inputs)\n",
    "        hidden_outputs=self.activation_function(hidden_inputs)\n",
    "        final_inputs=np.dot(self.who,hidden_outputs)\n",
    "        final_outputs=self.activation_function(final_inputs)\n",
    "        \n",
    "        output_errors=targets-final_outputs\n",
    "        hidden_errors=np.dot(self.who.T,output_errors)\n",
    "        self.who+=self.lr*np.dot((output_errors*final_outputs*(1.0-final_outputs)),np.transpose(hidden_outputs))#改变索引，不改变矩阵形状\n",
    "        self.wih+=self.lr*np.dot((hidden_errors*hidden_outputs*(1.0-hidden_outputs)),np.transpose(inputs))\n",
    "    #测试结果\n",
    "    def query(self,inputs_list):\n",
    "        inputs=np.array(inputs_list,ndmin=2).T\n",
    "        hidden_inputs=np.dot(self.wih,inputs)\n",
    "        hidden_outputs=self.activation_function(hidden_inputs)\n",
    "        final_inputs=np.dot(self.who,hidden_outputs)\n",
    "        final_outputs=self.activation_function(final_inputs)\n",
    "        return final_outputs"
   ]
  },
  {
   "cell_type": "markdown",
   "id": "959c35ad",
   "metadata": {},
   "source": [
    "3. 调节参数"
   ]
  },
  {
   "cell_type": "code",
   "execution_count": 4,
   "id": "0aa7d92b",
   "metadata": {},
   "outputs": [],
   "source": [
    "inodes=784\n",
    "onodes=10\n",
    "hnodes=200\n",
    "learningrate=0.1\n",
    "kf = KFold(n_splits=5,random_state=None)    #k折交叉验证"
   ]
  },
  {
   "cell_type": "markdown",
   "id": "baaa34f9",
   "metadata": {},
   "source": [
    "4. 读取并简单处理train数据集，创建数据迭代器"
   ]
  },
  {
   "cell_type": "code",
   "execution_count": 5,
   "id": "7f4b2e13",
   "metadata": {
    "scrolled": true
   },
   "outputs": [],
   "source": [
    "with open(\"train.csv\",'r') as f:\n",
    "    data=f.readlines()\n",
    "data_list=data[1:]\n",
    "epochs=3\n",
    "index=kf.split(data_list)"
   ]
  },
  {
   "cell_type": "markdown",
   "id": "9b155eb1",
   "metadata": {},
   "source": [
    "5. 开始验证模型性能（采用五折交叉验证，进行了三次迭代）"
   ]
  },
  {
   "cell_type": "markdown",
   "id": "08d9221e",
   "metadata": {},
   "source": [
    "训练需要一定时间"
   ]
  },
  {
   "cell_type": "code",
   "execution_count": 5,
   "id": "de387aff",
   "metadata": {},
   "outputs": [],
   "source": [
    "total_score=[]\n",
    "for train_index, test_index in index:\n",
    "    #五种不同的训练集\n",
    "    n=neuralNetwork(inodes,hnodes,onodes,learningrate)\n",
    "    #每种训练集进行三次迭代\n",
    "    for e in range(epochs):\n",
    "        for train in train_index:\n",
    "            value=data_list[train].split(',')\n",
    "            inputs=(np.asfarray(value[1:])/255.0*0.99)+0.01\n",
    "            targets=np.zeros(onodes)+0.01\n",
    "            targets[int(value[0])]=0.99\n",
    "            n.train(inputs,targets)\n",
    "        #训练完成后测试\n",
    "        if(e==epochs-1):\n",
    "            score=0\n",
    "            for test in test_index:\n",
    "                rvalue=data_list[test].split(',')\n",
    "                rinputs=(np.asfarray(rvalue[1:])/255.0*0.99)+0.01\n",
    "                outputs=n.query(rinputs)\n",
    "                label=np.argmax(outputs)\n",
    "                correct_label=int(rvalue[0])\n",
    "                if(label==correct_label):\n",
    "                    score+=1.0\n",
    "            #获得迭代三次后的神经网络的准确率\n",
    "            total_score.append(score/len(test_index))"
   ]
  },
  {
   "cell_type": "markdown",
   "id": "3bca016c",
   "metadata": {},
   "source": [
    "6. 输出模型性能"
   ]
  },
  {
   "cell_type": "code",
   "execution_count": 6,
   "id": "715d8577",
   "metadata": {
    "collapsed": true
   },
   "outputs": [
    {
     "name": "stdout",
     "output_type": "stream",
     "text": [
      "0.966047619047619\n"
     ]
    }
   ],
   "source": [
    "#对五种数据集得到的准确率求平均\n",
    "print(np.mean(total_score))"
   ]
  },
  {
   "cell_type": "markdown",
   "id": "9208d313",
   "metadata": {},
   "source": [
    "7. 重新训练模型"
   ]
  },
  {
   "cell_type": "code",
   "execution_count": 6,
   "id": "7448096b",
   "metadata": {},
   "outputs": [],
   "source": [
    "n=neuralNetwork(inodes,hnodes,onodes,learningrate)\n",
    "train=data_list[:33601]\n",
    "test=data_list[33601:]\n",
    "for e in range(epochs):\n",
    "    for tr in train:\n",
    "        value=tr.split(',')\n",
    "        inputs=(np.asfarray(value[1:])/255.0*0.99)+0.01\n",
    "        targets=np.zeros(onodes)+0.01\n",
    "        targets[int(value[0])]=0.99\n",
    "        n.train(inputs,targets)"
   ]
  },
  {
   "cell_type": "markdown",
   "id": "cd8d1774",
   "metadata": {},
   "source": [
    "8. 随机挑个图片看看预测结果"
   ]
  },
  {
   "cell_type": "code",
   "execution_count": 9,
   "id": "d63acd7e",
   "metadata": {
    "collapsed": true
   },
   "outputs": [
    {
     "name": "stdout",
     "output_type": "stream",
     "text": [
      "预测结果为5 实际答案为5\n"
     ]
    }
   ],
   "source": [
    "ti=random.randint(0, len(data_list)-1)\n",
    "te=data_list[ti]\n",
    "rvalue=te.split(',')\n",
    "rinputs=(np.asfarray(rvalue[1:])/255.0*0.99)+0.01\n",
    "outputs=n.query(rinputs)\n",
    "label=np.argmax(outputs)\n",
    "correct_label=int(rvalue[0])\n",
    "print(f\"预测结果为{label} 实际答案为{correct_label}\")"
   ]
  }
 ],
 "metadata": {
  "celltoolbar": "原始单元格格式",
  "kernelspec": {
   "display_name": "Python 3 (ipykernel)",
   "language": "python",
   "name": "python3"
  },
  "language_info": {
   "codemirror_mode": {
    "name": "ipython",
    "version": 3
   },
   "file_extension": ".py",
   "mimetype": "text/x-python",
   "name": "python",
   "nbconvert_exporter": "python",
   "pygments_lexer": "ipython3",
   "version": "3.11.5"
  }
 },
 "nbformat": 4,
 "nbformat_minor": 5
}
